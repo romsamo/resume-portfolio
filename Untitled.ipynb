{
 "cells": [
  {
   "cell_type": "code",
   "execution_count": 2,
   "id": "e7b814f6-1b15-43e1-9d96-a27fbcc109d4",
   "metadata": {},
   "outputs": [
    {
     "data": {
      "text/html": [
       "<div>\n",
       "<style scoped>\n",
       "    .dataframe tbody tr th:only-of-type {\n",
       "        vertical-align: middle;\n",
       "    }\n",
       "\n",
       "    .dataframe tbody tr th {\n",
       "        vertical-align: top;\n",
       "    }\n",
       "\n",
       "    .dataframe thead th {\n",
       "        text-align: right;\n",
       "    }\n",
       "</style>\n",
       "<table border=\"1\" class=\"dataframe\">\n",
       "  <thead>\n",
       "    <tr style=\"text-align: right;\">\n",
       "      <th></th>\n",
       "    </tr>\n",
       "  </thead>\n",
       "  <tbody>\n",
       "  </tbody>\n",
       "</table>\n",
       "</div>"
      ],
      "text/plain": [
       "Empty DataFrame\n",
       "Columns: []\n",
       "Index: []"
      ]
     },
     "execution_count": 2,
     "metadata": {},
     "output_type": "execute_result"
    }
   ],
   "source": [
    "import pandas as pd\n",
    "import matplotlib.pyplot as plt\n",
    "import os\n",
    "\n",
    "# Load your cleaned trades data\n",
    "cleaned_file_path = '/Users/romano/Desktop/twitterBot/data/cleaned_data.csv'\n",
    "cleaned_data = pd.read_csv(cleaned_file_path)\n",
    "\n",
    "# Convert 'Date Sold' to datetime\n",
    "cleaned_data['Date Sold'] = pd.to_datetime(cleaned_data['Date Sold'], errors='coerce')\n",
    "\n",
    "# Add a 'Month' column to group by month and year\n",
    "cleaned_data['Month'] = cleaned_data['Date Sold'].dt.to_period('M')\n",
    "\n",
    "# Group the data by month\n",
    "monthly_groups = cleaned_data.groupby('Month')\n",
    "\n",
    "# Initialize a DataFrame to store the metrics\n",
    "monthly_metrics = pd.DataFrame()\n",
    "\n",
    "monthly_metrics.head()"
   ]
  },
  {
   "cell_type": "code",
   "execution_count": null,
   "id": "e49792bf-7624-42ad-9db5-dfd1fe85f9fc",
   "metadata": {},
   "outputs": [],
   "source": []
  }
 ],
 "metadata": {
  "kernelspec": {
   "display_name": "Python 3 (ipykernel)",
   "language": "python",
   "name": "python3"
  },
  "language_info": {
   "codemirror_mode": {
    "name": "ipython",
    "version": 3
   },
   "file_extension": ".py",
   "mimetype": "text/x-python",
   "name": "python",
   "nbconvert_exporter": "python",
   "pygments_lexer": "ipython3",
   "version": "3.11.7"
  }
 },
 "nbformat": 4,
 "nbformat_minor": 5
}
